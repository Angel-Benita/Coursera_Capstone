{
    "cells": [
        {
            "cell_type": "markdown",
            "metadata": {
                "collapsed": true
            },
            "source": "# Data"
        },
        {
            "cell_type": "markdown",
            "metadata": {},
            "source": "The data for this project has been retrieved and processsed through multiple sources,giving careful considerations to the accuracy of methods used.\n\n1.Neighbourhood:The data in Kolkata can be extracted out by web scraping using BeautifulSoup library for python.The data is scraped from wikipedia webpage.\n\n2.Geocoding:The file contents fron Kolkata.csv is retrived into a Pandas Dataframe.The latitude and longitude of neighbourhoods are retrieved from Google Maps Geocoding API.\n\n3.Venue Data :From the location obtained after Web Scraping and Geocoding,the venue data os found out by passing in the required parameters to the FourSquare API,and creating another dataframe to contain all the venue details along with the respective neighbourhoods. \n"
        }
    ],
    "metadata": {
        "kernelspec": {
            "display_name": "Python 3.6",
            "language": "python",
            "name": "python3"
        },
        "language_info": {
            "codemirror_mode": {
                "name": "ipython",
                "version": 3
            },
            "file_extension": ".py",
            "mimetype": "text/x-python",
            "name": "python",
            "nbconvert_exporter": "python",
            "pygments_lexer": "ipython3",
            "version": "3.6.9"
        }
    },
    "nbformat": 4,
    "nbformat_minor": 1
}