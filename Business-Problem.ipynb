{
    "cells": [
        {
            "cell_type": "markdown",
            "metadata": {
                "collapsed": true
            },
            "source": "# Business Problem"
        },
        {
            "cell_type": "markdown",
            "metadata": {},
            "source": "The Kolkata Suburban Railway is a suburban rail system serving the suburbs surrounding the city of Kolkata.Railways such as these are important and heavily used infrastructure in India.\nTrain passengers as well as station and train employees need to eat breakfast,lunch,dinner and snacks.Although food sales are forbidden in some railway stations,many do offer merchants the opportunity to sell food.Foods that attract busy people on the go include egg sandwiches,fries,pizza,burgers,microwaveable or cold prepared meals.Beverages such as coffee,tea,wraps,water,soda and juice also as well.Thus the main objective of the project will be to find ideal spots in the city where fast food retail chains can be put up,aiming at the above demographic,thereby helping the ownwers of the outlets to extarct maximum profits out of them"
        }
    ],
    "metadata": {
        "kernelspec": {
            "display_name": "Python 3.6",
            "language": "python",
            "name": "python3"
        },
        "language_info": {
            "codemirror_mode": {
                "name": "ipython",
                "version": 3
            },
            "file_extension": ".py",
            "mimetype": "text/x-python",
            "name": "python",
            "nbconvert_exporter": "python",
            "pygments_lexer": "ipython3",
            "version": "3.6.9"
        }
    },
    "nbformat": 4,
    "nbformat_minor": 1
}